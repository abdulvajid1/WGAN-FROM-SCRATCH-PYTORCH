{
 "cells": [
  {
   "cell_type": "code",
   "execution_count": 1,
   "id": "22ec96d1",
   "metadata": {},
   "outputs": [
    {
     "name": "stderr",
     "output_type": "stream",
     "text": [
      "d:\\Machine Learning\\PROJECTS\\WGAN-FROM-SCRATCH-PYTORCH\\.venv\\lib\\site-packages\\tqdm\\auto.py:21: TqdmWarning: IProgress not found. Please update jupyter and ipywidgets. See https://ipywidgets.readthedocs.io/en/stable/user_install.html\n",
      "  from .autonotebook import tqdm as notebook_tqdm\n"
     ]
    }
   ],
   "source": [
    "import torch.nn as nn\n",
    "import torch.nn.functional as F\n",
    "import torch\n",
    "import tqdm\n",
    "from data import load_car_data\n",
    "from data import load_mnist_data\n",
    "from data import load_bedroom_data\n",
    "import matplotlib.pyplot as plt\n",
    "from model import Generator, Critic\n",
    "import torchvision\n"
   ]
  },
  {
   "cell_type": "code",
   "execution_count": null,
   "id": "c52ae0cb",
   "metadata": {},
   "outputs": [],
   "source": [
    "def evaluate(generator: Generator, critic: Critic, test_loader, num_data, batch_size, device, latent_dim):\n",
    "    generator.eval()\n",
    "    critic.eval()\n",
    "    progress_bar = tqdm.tqdm(test_loader)\n",
    "    generator_losses = []\n",
    "    critic_losses = []\n",
    "    for i, images in enumerate(progress_bar):\n",
    "      with torch.no_grad():\n",
    "            real_img_batch = images.to(device)\n",
    "            latent_inp = torch.randn(size=(batch_size, latent_dim)).to(device) # (b, h)\n",
    "            x = torch.unsqueeze(torch.unsqueeze(latent_inp, dim=-1), dim=-1) # (b, h, 1, 1)\n",
    "            fake_img_batch = generator(x)\n",
    "            \n",
    "            # Descriminate\n",
    "            D_real = critic(real_img_batch).squeeze() # (5, 1)\n",
    "            D_fake = critic(fake_img_batch).squeeze() # Descrimating Generated image\n",
    "            \n",
    "            D_loss = - (D_real.mean() - D_fake.mean())\n",
    "            G_loss = - (D_fake.mean())         \n",
    "              \n",
    "            generator_losses.append(G_loss.item())\n",
    "            critic_losses.append(D_loss.item())\n",
    "          \n",
    "      if i == num_data:\n",
    "          break\n",
    "    \n",
    "    eval_generator_mean_loss = torch.tensor(generator_losses).mean()\n",
    "    eval_critic_mean_loss = torch.tensor(critic_losses).mean()\n",
    "    \n",
    "    # Show a grid of generated images\n",
    "    latent_inp = torch.randn(size=(16, latent_dim)).to(device) # (b, h)\n",
    "    x = torch.unsqueeze(torch.unsqueeze(latent_inp, dim=-1), dim=-1) # (b, h, 1, 1)\n",
    "    fake_samples = generator(x).detach().cpu()\n",
    "    grid = torchvision.utils.make_grid(fake_samples, nrow=4, normalize=True)\n",
    "    plt.figure(figsize=(7, 7))\n",
    "    plt.imshow(grid.permute(1, 2, 0))\n",
    "    plt.axis(\"off\")\n",
    "    plt.show()\n",
    "    \n",
    "    generator.train()\n",
    "    critic.train()\n",
    "    \n",
    "    return eval_critic_mean_loss, eval_generator_mean_loss\n",
    "\n",
    "def gradient_penalty(critic, real_images, fake_images, device):\n",
    "    batch_size = real_images.size(0)\n",
    "\n",
    "    \n",
    "    \n",
    "    # Random weight for interpolation between real & fake\n",
    "    epsilon = torch.rand(batch_size, 1, 1, 1, device=device)\n",
    "    \n",
    "    interpolated = epsilon * real_images + (1 - epsilon) * fake_images\n",
    "    interpolated.requires_grad_(True)\n",
    "\n",
    "    # Critic score for interpolated images\n",
    "    interpolated_score = critic(interpolated)\n",
    "\n",
    "    # Compute gradients of scores w.r.t. interpolated images\n",
    "    gradients = torch.autograd.grad(\n",
    "        outputs=interpolated_score,\n",
    "        inputs=interpolated,\n",
    "        grad_outputs=torch.ones_like(interpolated_score),\n",
    "        create_graph=True,\n",
    "        retain_graph=True,\n",
    "        only_inputs=True\n",
    "    )[0]\n",
    "\n",
    "    # Flatten gradients: (batch_size, -1)\n",
    "    gradients = gradients.view(batch_size, -1)\n",
    "\n",
    "    # Compute penalty: (||grad||2 - 1)^2\n",
    "    penalty = ((gradients.norm(2, dim=1) - 1) ** 2).mean()\n",
    "    return penalty\n",
    " \n",
    "def train(generator, critic, num_epochs, eval_epoch, device, batch_size, sample_size, n_critic, latent_dim, lambda_g):\n",
    "    generator.to(device)\n",
    "    critic.to(device)\n",
    "    D_optimizer = torch.optim.AdamW(critic.parameters(), lr=1e-4, betas=(0.0, 0.9))\n",
    "    G_optimizer = torch.optim.AdamW(generator.parameters(), lr=1e-4,betas=(0.0, 0.9))\n",
    "    train_loader, test_loader = load_bedroom_data(train_batch_size=batch_size, test_batch_size=2, sample_size=sample_size)\n",
    "    \n",
    "    \n",
    "    for epoch in range(num_epochs):\n",
    "        progress = tqdm.tqdm(train_loader, dynamic_ncols=True)\n",
    "        generator.train()\n",
    "        critic.train()\n",
    "        progress.set_description(f'Epoch: {epoch}')\n",
    "        generator_losses = []\n",
    "        critic_losses = []\n",
    "        \n",
    "        # print(next(iter(progress)))\n",
    "        \n",
    "        for step, images in enumerate(progress):\n",
    "            real_images = images.to(device)\n",
    "            \n",
    "            for _ in range(n_critic):\n",
    "                \n",
    "                latent_inp = torch.randn(size=(batch_size, latent_dim)).to(device) # (b, h)\n",
    "                x = torch.unsqueeze(torch.unsqueeze(latent_inp, dim=-1), dim=-1) # (b, h, 1, 1)\n",
    "                fake_images = generator(x).detach()\n",
    "            \n",
    "                # Descriminate\n",
    "                D_real = critic(real_images).squeeze() # (5, 1)\n",
    "                D_fake = critic(fake_images).squeeze() # Descrimating Generated image\n",
    "                \n",
    "                gp = gradient_penalty(critic, real_images, fake_images, device)\n",
    "                \n",
    "                D_loss = - (D_real.mean() - D_fake.mean()) + lambda_g * gp\n",
    "\n",
    "                D_optimizer.zero_grad()\n",
    "                D_loss.backward()\n",
    "                D_optimizer.step()\n",
    "            \n",
    "            G_optimizer.zero_grad()\n",
    "            latent_inp = torch.randn(size=(batch_size, latent_dim)).to(device) # (b, h)\n",
    "            x = torch.unsqueeze(torch.unsqueeze(latent_inp, dim=-1), dim=-1) # (b, h, 1, 1)\n",
    "            fake_images = generator(x)\n",
    "            D_fake = critic(fake_images).squeeze() # Descrimating Generated image\n",
    "            G_loss = - torch.mean(D_fake)\n",
    "            G_loss.backward()\n",
    "            G_optimizer.step()\n",
    "            \n",
    "            generator_losses.append(G_loss.item())\n",
    "            critic_losses.append(D_loss.item())\n",
    "            \n",
    "            progress.set_postfix({'generator_loss': f\"{G_loss.item():.4f}\", 'critic_loss': f\"{D_loss.item():.4f}\"})\n",
    "        \n",
    "            if (step + 1) % 1000 == 0:\n",
    "                eval_critic_loss, eval_generator_loss = evaluate(generator, critic, test_loader, num_data=20, batch_size=2, device=device, latent_dim=latent_dim)\n",
    "\n",
    "        \n",
    "        torch.save(generator, f\"generator_{epoch}.pt\")\n",
    "        torch.save(critic, f\"critic_{epoch}.pt\")\n",
    "            \n",
    "        \n",
    "       \n",
    "      "
   ]
  },
  {
   "cell_type": "code",
   "execution_count": 10,
   "id": "6754b787",
   "metadata": {},
   "outputs": [],
   "source": [
    "device = torch.device('cuda' if torch.cuda.is_available() else 'cpu')\n",
    "latent_dim = 100\n",
    "\n",
    "generator= torch.load(\"generator.pt\", weights_only=False)\n",
    "critic = torch.load(\"critic.pt\", weights_only=False)\n",
    "\n",
    "# generator = Generator(latent_dim=latent_dim, device=device)\n",
    "# critic = Critic()"
   ]
  },
  {
   "cell_type": "code",
   "execution_count": 8,
   "id": "df8a184d",
   "metadata": {},
   "outputs": [],
   "source": [
    "# torch.save(generator, \"generator.pt\")\n",
    "# torch.save(critic, \"critic.pt\")"
   ]
  },
  {
   "cell_type": "code",
   "execution_count": null,
   "id": "d8c8f6b9",
   "metadata": {},
   "outputs": [
    {
     "name": "stderr",
     "output_type": "stream",
     "text": [
      "Epoch: 0:  10%|▉         | 779/7812 [06:20<57:58,  2.02it/s, generator_loss=-50.7978, critic_loss=-4.7890]    "
     ]
    }
   ],
   "source": [
    "train(generator=generator, critic=critic, num_epochs=100, eval_epoch=20, device=device, batch_size=32, sample_size=250000, n_critic=5, latent_dim=latent_dim, lambda_g=10)"
   ]
  },
  {
   "cell_type": "code",
   "execution_count": 27,
   "id": "c3a5681a",
   "metadata": {},
   "outputs": [
    {
     "ename": "AcceleratorError",
     "evalue": "CUDA error: an illegal instruction was encountered\nCUDA kernel errors might be asynchronously reported at some other API call, so the stacktrace below might be incorrect.\nFor debugging consider passing CUDA_LAUNCH_BLOCKING=1\nCompile with `TORCH_USE_CUDA_DSA` to enable device-side assertions.\n",
     "output_type": "error",
     "traceback": [
      "\u001b[1;31m---------------------------------------------------------------------------\u001b[0m",
      "\u001b[1;31mAcceleratorError\u001b[0m                          Traceback (most recent call last)",
      "Cell \u001b[1;32mIn[27], line 2\u001b[0m\n\u001b[0;32m      1\u001b[0m \u001b[38;5;66;03m# Show a grid of generated images\u001b[39;00m\n\u001b[1;32m----> 2\u001b[0m latent_inp \u001b[38;5;241m=\u001b[39m \u001b[43mtorch\u001b[49m\u001b[38;5;241;43m.\u001b[39;49m\u001b[43mrandn\u001b[49m\u001b[43m(\u001b[49m\u001b[43msize\u001b[49m\u001b[38;5;241;43m=\u001b[39;49m\u001b[43m(\u001b[49m\u001b[38;5;241;43m1\u001b[39;49m\u001b[43m,\u001b[49m\u001b[43m \u001b[49m\u001b[43mlatent_dim\u001b[49m\u001b[43m)\u001b[49m\u001b[43m)\u001b[49m\u001b[38;5;241;43m.\u001b[39;49m\u001b[43mto\u001b[49m\u001b[43m(\u001b[49m\u001b[43mdevice\u001b[49m\u001b[43m)\u001b[49m \u001b[38;5;66;03m# (b, h)\u001b[39;00m\n\u001b[0;32m      3\u001b[0m x \u001b[38;5;241m=\u001b[39m torch\u001b[38;5;241m.\u001b[39munsqueeze(torch\u001b[38;5;241m.\u001b[39munsqueeze(latent_inp, dim\u001b[38;5;241m=\u001b[39m\u001b[38;5;241m-\u001b[39m\u001b[38;5;241m1\u001b[39m), dim\u001b[38;5;241m=\u001b[39m\u001b[38;5;241m-\u001b[39m\u001b[38;5;241m1\u001b[39m)\n\u001b[0;32m      4\u001b[0m generator\u001b[38;5;241m.\u001b[39meval()\n",
      "\u001b[1;31mAcceleratorError\u001b[0m: CUDA error: an illegal instruction was encountered\nCUDA kernel errors might be asynchronously reported at some other API call, so the stacktrace below might be incorrect.\nFor debugging consider passing CUDA_LAUNCH_BLOCKING=1\nCompile with `TORCH_USE_CUDA_DSA` to enable device-side assertions.\n"
     ]
    }
   ],
   "source": [
    "# Show a grid of generated images\n",
    "latent_inp = torch.randn(size=(1, latent_dim)).to(device) # (b, h)\n",
    "x = torch.unsqueeze(torch.unsqueeze(latent_inp, dim=-1), dim=-1)\n",
    "generator.eval()\n",
    "with torch.no_grad():\n",
    "    fake_samples = generator(x).detach().cpu()\n",
    "grid = torchvision.utils.make_grid(fake_samples, nrow=4, normalize=True)\n",
    "plt.figure(figsize=(5, 5))\n",
    "plt.imshow(grid.permute(1, 2, 0))\n",
    "plt.axis(\"off\")\n",
    "plt.show()\n",
    "    "
   ]
  },
  {
   "cell_type": "code",
   "execution_count": null,
   "id": "fb3afb64",
   "metadata": {},
   "outputs": [],
   "source": []
  }
 ],
 "metadata": {
  "kernelspec": {
   "display_name": "gan-from-scratch-pytorch",
   "language": "python",
   "name": "python3"
  },
  "language_info": {
   "codemirror_mode": {
    "name": "ipython",
    "version": 3
   },
   "file_extension": ".py",
   "mimetype": "text/x-python",
   "name": "python",
   "nbconvert_exporter": "python",
   "pygments_lexer": "ipython3",
   "version": "3.9.21"
  }
 },
 "nbformat": 4,
 "nbformat_minor": 5
}
