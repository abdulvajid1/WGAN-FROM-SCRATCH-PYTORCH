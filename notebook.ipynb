{
 "cells": [
  {
   "cell_type": "code",
   "execution_count": 1,
   "id": "3a2b1db3",
   "metadata": {},
   "outputs": [],
   "source": [
    "import torch\n",
    "import torch.nn as nn\n",
    "import matplotlib.pyplot as plt\n",
    "from model import Generator\n",
    "from model import Critic"
   ]
  },
  {
   "cell_type": "code",
   "execution_count": 2,
   "id": "6059df9c",
   "metadata": {},
   "outputs": [],
   "source": [
    "latent_input = torch.randn((100, 1, 1))"
   ]
  },
  {
   "cell_type": "code",
   "execution_count": 5,
   "id": "44be7d97",
   "metadata": {},
   "outputs": [],
   "source": [
    "generator = Generator(latent_dim=100, device='cpu')"
   ]
  },
  {
   "cell_type": "code",
   "execution_count": 6,
   "id": "2fc55ddd",
   "metadata": {},
   "outputs": [
    {
     "data": {
      "text/plain": [
       "torch.Size([5, 1, 28, 28])"
      ]
     },
     "execution_count": 6,
     "metadata": {},
     "output_type": "execute_result"
    }
   ],
   "source": [
    "output = generator(5)\n",
    "\n",
    "output.shape"
   ]
  },
  {
   "cell_type": "code",
   "execution_count": 5,
   "id": "2983d6a5",
   "metadata": {},
   "outputs": [
    {
     "data": {
      "text/plain": [
       "torch.Size([5, 28, 28])"
      ]
     },
     "execution_count": 5,
     "metadata": {},
     "output_type": "execute_result"
    }
   ],
   "source": [
    "img = output.squeeze()\n",
    "img.shape"
   ]
  },
  {
   "cell_type": "code",
   "execution_count": 6,
   "id": "1fc9144b",
   "metadata": {},
   "outputs": [
    {
     "data": {
      "text/plain": [
       "<matplotlib.image.AxesImage at 0x12549d460>"
      ]
     },
     "execution_count": 6,
     "metadata": {},
     "output_type": "execute_result"
    },
    {
     "data": {
      "image/png": "[encoded data removed]",
      "text/plain": [
       "<Figure size 640x480 with 1 Axes>"
      ]
     },
     "metadata": {},
     "output_type": "display_data"
    }
   ],
   "source": [
    "plt.imshow(img[0].squeeze().detach().cpu())"
   ]
  },
  {
   "cell_type": "code",
   "execution_count": 7,
   "id": "97e5b0ec",
   "metadata": {},
   "outputs": [],
   "source": [
    "critic = Critic()"
   ]
  },
  {
   "cell_type": "code",
   "execution_count": 8,
   "id": "9e31ecc7",
   "metadata": {},
   "outputs": [
    {
     "data": {
      "text/plain": [
       "torch.Size([5, 1, 28, 28])"
      ]
     },
     "execution_count": 8,
     "metadata": {},
     "output_type": "execute_result"
    }
   ],
   "source": [
    "output.shape"
   ]
  },
  {
   "cell_type": "code",
   "execution_count": 10,
   "id": "6d8cd614",
   "metadata": {},
   "outputs": [
    {
     "name": "stdout",
     "output_type": "stream",
     "text": [
      "tensor([[-0.1381],\n",
      "        [-0.1502],\n",
      "        [-0.0764],\n",
      "        [-0.1555],\n",
      "        [-0.1188]], grad_fn=<AddmmBackward0>)\n",
      "tensor([-0.1381, -0.1502, -0.0764, -0.1555, -0.1188],\n",
      "       grad_fn=<SqueezeBackward0>)\n",
      "torch.Size([5])\n"
     ]
    }
   ],
   "source": [
    "out = critic(output)\n",
    "print(out)\n",
    "print(out.squeeze())\n",
    "print(out.squeeze().shape)"
   ]
  },
  {
   "cell_type": "code",
   "execution_count": 11,
   "id": "757d4761",
   "metadata": {},
   "outputs": [],
   "source": [
    "from model import DCGAN"
   ]
  },
  {
   "cell_type": "code",
   "execution_count": 12,
   "id": "64e5063a",
   "metadata": {},
   "outputs": [],
   "source": [
    "model = DCGAN(generator, descriminator, batch_size=5, device='cpu')"
   ]
  },
  {
   "cell_type": "code",
   "execution_count": 13,
   "id": "0f0cd129",
   "metadata": {},
   "outputs": [
    {
     "data": {
      "text/plain": [
       "(tensor(0.6106, grad_fn=<BinaryCrossEntropyBackward0>),\n",
       " tensor(0.7022, grad_fn=<DivBackward0>))"
      ]
     },
     "execution_count": 13,
     "metadata": {},
     "output_type": "execute_result"
    }
   ],
   "source": [
    "model(output)"
   ]
  },
  {
   "cell_type": "code",
   "execution_count": null,
   "id": "a6061f00",
   "metadata": {},
   "outputs": [],
   "source": [
    "\n"
   ]
  }
 ],
 "metadata": {
  "kernelspec": {
   "display_name": "gan-from-scratch-pytorch (3.9.6)",
   "language": "python",
   "name": "python3"
  },
  "language_info": {
   "codemirror_mode": {
    "name": "ipython",
    "version": 3
   },
   "file_extension": ".py",
   "mimetype": "text/x-python",
   "name": "python",
   "nbconvert_exporter": "python",
   "pygments_lexer": "ipython3",
   "version": "3.9.6"
  }
 },
 "nbformat": 4,
 "nbformat_minor": 5
}
